{
  "cells": [
    {
      "cell_type": "markdown",
      "metadata": {
        "id": "OEa60VSOFA5k"
      },
      "source": [
        "## Disease Prediction from symptoms"
      ]
    },
    {
      "cell_type": "code",
      "execution_count": null,
      "metadata": {
        "colab": {
          "base_uri": "https://localhost:8080/"
        },
        "id": "lJ_rYdui2MLN",
        "outputId": "1a7ae319-ce54-410c-eccd-eec1e48cb3f0"
      },
      "outputs": [
        {
          "name": "stdout",
          "output_type": "stream",
          "text": [
            "Mounted at /content/drive\n"
          ]
        }
      ],
      "source": [
        "from google.colab import drive\n",
        "drive.mount('/content/drive')\n",
        "\n",
        "\n",
        "\n",
        "\n",
        "\n",
        "\n",
        "\n"
      ]
    },
    {
      "cell_type": "code",
      "execution_count": null,
      "metadata": {
        "id": "rus1htUY2Xgj"
      },
      "outputs": [],
      "source": [
        "import pandas as pd\n",
        "import numpy as np"
      ]
    },
    {
      "cell_type": "code",
      "execution_count": null,
      "metadata": {
        "id": "moyhh_8m2spA"
      },
      "outputs": [],
      "source": [
        "traindf=pd.read_csv(\"/content/drive/MyDrive/PDHealthCareProject/dataset/symptoms/Training.csv\")\n",
        "testdf=pd.read_csv(\"/content/drive/MyDrive/PDHealthCareProject/dataset/symptoms/Testing.csv\")\n",
        "#remove useless columns\n",
        "traindf=traindf.iloc[:,:-1]"
      ]
    },
    {
      "cell_type": "code",
      "execution_count": null,
      "metadata": {
        "colab": {
          "base_uri": "https://localhost:8080/"
        },
        "id": "wphM2QIA21FO",
        "outputId": "c7b8c711-6299-4e48-abe1-a55e42e53275"
      },
      "outputs": [
        {
          "name": "stdout",
          "output_type": "stream",
          "text": [
            "(4920, 133) (42, 133)\n"
          ]
        }
      ],
      "source": [
        "print(traindf.shape,testdf.shape)"
      ]
    },
    {
      "cell_type": "code",
      "execution_count": null,
      "metadata": {
        "colab": {
          "base_uri": "https://localhost:8080/",
          "height": 307
        },
        "id": "pHVPtPRa3PRg",
        "outputId": "7bbe5bc2-821d-4a0d-9cda-ee6b121f6c19"
      },
      "outputs": [
        {
          "data": {
            "text/html": [
              "<div>\n",
              "<style scoped>\n",
              "    .dataframe tbody tr th:only-of-type {\n",
              "        vertical-align: middle;\n",
              "    }\n",
              "\n",
              "    .dataframe tbody tr th {\n",
              "        vertical-align: top;\n",
              "    }\n",
              "\n",
              "    .dataframe thead th {\n",
              "        text-align: right;\n",
              "    }\n",
              "</style>\n",
              "<table border=\"1\" class=\"dataframe\">\n",
              "  <thead>\n",
              "    <tr style=\"text-align: right;\">\n",
              "      <th></th>\n",
              "      <th>itching</th>\n",
              "      <th>skin_rash</th>\n",
              "      <th>nodal_skin_eruptions</th>\n",
              "      <th>continuous_sneezing</th>\n",
              "      <th>shivering</th>\n",
              "      <th>chills</th>\n",
              "      <th>joint_pain</th>\n",
              "      <th>stomach_pain</th>\n",
              "      <th>acidity</th>\n",
              "      <th>ulcers_on_tongue</th>\n",
              "      <th>muscle_wasting</th>\n",
              "      <th>vomiting</th>\n",
              "      <th>burning_micturition</th>\n",
              "      <th>spotting_ urination</th>\n",
              "      <th>fatigue</th>\n",
              "      <th>weight_gain</th>\n",
              "      <th>anxiety</th>\n",
              "      <th>cold_hands_and_feets</th>\n",
              "      <th>mood_swings</th>\n",
              "      <th>weight_loss</th>\n",
              "      <th>restlessness</th>\n",
              "      <th>lethargy</th>\n",
              "      <th>patches_in_throat</th>\n",
              "      <th>irregular_sugar_level</th>\n",
              "      <th>cough</th>\n",
              "      <th>high_fever</th>\n",
              "      <th>sunken_eyes</th>\n",
              "      <th>breathlessness</th>\n",
              "      <th>sweating</th>\n",
              "      <th>dehydration</th>\n",
              "      <th>indigestion</th>\n",
              "      <th>headache</th>\n",
              "      <th>yellowish_skin</th>\n",
              "      <th>dark_urine</th>\n",
              "      <th>nausea</th>\n",
              "      <th>loss_of_appetite</th>\n",
              "      <th>pain_behind_the_eyes</th>\n",
              "      <th>back_pain</th>\n",
              "      <th>constipation</th>\n",
              "      <th>abdominal_pain</th>\n",
              "      <th>...</th>\n",
              "      <th>internal_itching</th>\n",
              "      <th>toxic_look_(typhos)</th>\n",
              "      <th>depression</th>\n",
              "      <th>irritability</th>\n",
              "      <th>muscle_pain</th>\n",
              "      <th>altered_sensorium</th>\n",
              "      <th>red_spots_over_body</th>\n",
              "      <th>belly_pain</th>\n",
              "      <th>abnormal_menstruation</th>\n",
              "      <th>dischromic _patches</th>\n",
              "      <th>watering_from_eyes</th>\n",
              "      <th>increased_appetite</th>\n",
              "      <th>polyuria</th>\n",
              "      <th>family_history</th>\n",
              "      <th>mucoid_sputum</th>\n",
              "      <th>rusty_sputum</th>\n",
              "      <th>lack_of_concentration</th>\n",
              "      <th>visual_disturbances</th>\n",
              "      <th>receiving_blood_transfusion</th>\n",
              "      <th>receiving_unsterile_injections</th>\n",
              "      <th>coma</th>\n",
              "      <th>stomach_bleeding</th>\n",
              "      <th>distention_of_abdomen</th>\n",
              "      <th>history_of_alcohol_consumption</th>\n",
              "      <th>fluid_overload.1</th>\n",
              "      <th>blood_in_sputum</th>\n",
              "      <th>prominent_veins_on_calf</th>\n",
              "      <th>palpitations</th>\n",
              "      <th>painful_walking</th>\n",
              "      <th>pus_filled_pimples</th>\n",
              "      <th>blackheads</th>\n",
              "      <th>scurring</th>\n",
              "      <th>skin_peeling</th>\n",
              "      <th>silver_like_dusting</th>\n",
              "      <th>small_dents_in_nails</th>\n",
              "      <th>inflammatory_nails</th>\n",
              "      <th>blister</th>\n",
              "      <th>red_sore_around_nose</th>\n",
              "      <th>yellow_crust_ooze</th>\n",
              "      <th>prognosis</th>\n",
              "    </tr>\n",
              "  </thead>\n",
              "  <tbody>\n",
              "    <tr>\n",
              "      <th>0</th>\n",
              "      <td>1</td>\n",
              "      <td>1</td>\n",
              "      <td>1</td>\n",
              "      <td>0</td>\n",
              "      <td>0</td>\n",
              "      <td>0</td>\n",
              "      <td>0</td>\n",
              "      <td>0</td>\n",
              "      <td>0</td>\n",
              "      <td>0</td>\n",
              "      <td>0</td>\n",
              "      <td>0</td>\n",
              "      <td>0</td>\n",
              "      <td>0</td>\n",
              "      <td>0</td>\n",
              "      <td>0</td>\n",
              "      <td>0</td>\n",
              "      <td>0</td>\n",
              "      <td>0</td>\n",
              "      <td>0</td>\n",
              "      <td>0</td>\n",
              "      <td>0</td>\n",
              "      <td>0</td>\n",
              "      <td>0</td>\n",
              "      <td>0</td>\n",
              "      <td>0</td>\n",
              "      <td>0</td>\n",
              "      <td>0</td>\n",
              "      <td>0</td>\n",
              "      <td>0</td>\n",
              "      <td>0</td>\n",
              "      <td>0</td>\n",
              "      <td>0</td>\n",
              "      <td>0</td>\n",
              "      <td>0</td>\n",
              "      <td>0</td>\n",
              "      <td>0</td>\n",
              "      <td>0</td>\n",
              "      <td>0</td>\n",
              "      <td>0</td>\n",
              "      <td>...</td>\n",
              "      <td>0</td>\n",
              "      <td>0</td>\n",
              "      <td>0</td>\n",
              "      <td>0</td>\n",
              "      <td>0</td>\n",
              "      <td>0</td>\n",
              "      <td>0</td>\n",
              "      <td>0</td>\n",
              "      <td>0</td>\n",
              "      <td>1</td>\n",
              "      <td>0</td>\n",
              "      <td>0</td>\n",
              "      <td>0</td>\n",
              "      <td>0</td>\n",
              "      <td>0</td>\n",
              "      <td>0</td>\n",
              "      <td>0</td>\n",
              "      <td>0</td>\n",
              "      <td>0</td>\n",
              "      <td>0</td>\n",
              "      <td>0</td>\n",
              "      <td>0</td>\n",
              "      <td>0</td>\n",
              "      <td>0</td>\n",
              "      <td>0</td>\n",
              "      <td>0</td>\n",
              "      <td>0</td>\n",
              "      <td>0</td>\n",
              "      <td>0</td>\n",
              "      <td>0</td>\n",
              "      <td>0</td>\n",
              "      <td>0</td>\n",
              "      <td>0</td>\n",
              "      <td>0</td>\n",
              "      <td>0</td>\n",
              "      <td>0</td>\n",
              "      <td>0</td>\n",
              "      <td>0</td>\n",
              "      <td>0</td>\n",
              "      <td>Fungal infection</td>\n",
              "    </tr>\n",
              "    <tr>\n",
              "      <th>1</th>\n",
              "      <td>0</td>\n",
              "      <td>1</td>\n",
              "      <td>1</td>\n",
              "      <td>0</td>\n",
              "      <td>0</td>\n",
              "      <td>0</td>\n",
              "      <td>0</td>\n",
              "      <td>0</td>\n",
              "      <td>0</td>\n",
              "      <td>0</td>\n",
              "      <td>0</td>\n",
              "      <td>0</td>\n",
              "      <td>0</td>\n",
              "      <td>0</td>\n",
              "      <td>0</td>\n",
              "      <td>0</td>\n",
              "      <td>0</td>\n",
              "      <td>0</td>\n",
              "      <td>0</td>\n",
              "      <td>0</td>\n",
              "      <td>0</td>\n",
              "      <td>0</td>\n",
              "      <td>0</td>\n",
              "      <td>0</td>\n",
              "      <td>0</td>\n",
              "      <td>0</td>\n",
              "      <td>0</td>\n",
              "      <td>0</td>\n",
              "      <td>0</td>\n",
              "      <td>0</td>\n",
              "      <td>0</td>\n",
              "      <td>0</td>\n",
              "      <td>0</td>\n",
              "      <td>0</td>\n",
              "      <td>0</td>\n",
              "      <td>0</td>\n",
              "      <td>0</td>\n",
              "      <td>0</td>\n",
              "      <td>0</td>\n",
              "      <td>0</td>\n",
              "      <td>...</td>\n",
              "      <td>0</td>\n",
              "      <td>0</td>\n",
              "      <td>0</td>\n",
              "      <td>0</td>\n",
              "      <td>0</td>\n",
              "      <td>0</td>\n",
              "      <td>0</td>\n",
              "      <td>0</td>\n",
              "      <td>0</td>\n",
              "      <td>1</td>\n",
              "      <td>0</td>\n",
              "      <td>0</td>\n",
              "      <td>0</td>\n",
              "      <td>0</td>\n",
              "      <td>0</td>\n",
              "      <td>0</td>\n",
              "      <td>0</td>\n",
              "      <td>0</td>\n",
              "      <td>0</td>\n",
              "      <td>0</td>\n",
              "      <td>0</td>\n",
              "      <td>0</td>\n",
              "      <td>0</td>\n",
              "      <td>0</td>\n",
              "      <td>0</td>\n",
              "      <td>0</td>\n",
              "      <td>0</td>\n",
              "      <td>0</td>\n",
              "      <td>0</td>\n",
              "      <td>0</td>\n",
              "      <td>0</td>\n",
              "      <td>0</td>\n",
              "      <td>0</td>\n",
              "      <td>0</td>\n",
              "      <td>0</td>\n",
              "      <td>0</td>\n",
              "      <td>0</td>\n",
              "      <td>0</td>\n",
              "      <td>0</td>\n",
              "      <td>Fungal infection</td>\n",
              "    </tr>\n",
              "    <tr>\n",
              "      <th>2</th>\n",
              "      <td>1</td>\n",
              "      <td>0</td>\n",
              "      <td>1</td>\n",
              "      <td>0</td>\n",
              "      <td>0</td>\n",
              "      <td>0</td>\n",
              "      <td>0</td>\n",
              "      <td>0</td>\n",
              "      <td>0</td>\n",
              "      <td>0</td>\n",
              "      <td>0</td>\n",
              "      <td>0</td>\n",
              "      <td>0</td>\n",
              "      <td>0</td>\n",
              "      <td>0</td>\n",
              "      <td>0</td>\n",
              "      <td>0</td>\n",
              "      <td>0</td>\n",
              "      <td>0</td>\n",
              "      <td>0</td>\n",
              "      <td>0</td>\n",
              "      <td>0</td>\n",
              "      <td>0</td>\n",
              "      <td>0</td>\n",
              "      <td>0</td>\n",
              "      <td>0</td>\n",
              "      <td>0</td>\n",
              "      <td>0</td>\n",
              "      <td>0</td>\n",
              "      <td>0</td>\n",
              "      <td>0</td>\n",
              "      <td>0</td>\n",
              "      <td>0</td>\n",
              "      <td>0</td>\n",
              "      <td>0</td>\n",
              "      <td>0</td>\n",
              "      <td>0</td>\n",
              "      <td>0</td>\n",
              "      <td>0</td>\n",
              "      <td>0</td>\n",
              "      <td>...</td>\n",
              "      <td>0</td>\n",
              "      <td>0</td>\n",
              "      <td>0</td>\n",
              "      <td>0</td>\n",
              "      <td>0</td>\n",
              "      <td>0</td>\n",
              "      <td>0</td>\n",
              "      <td>0</td>\n",
              "      <td>0</td>\n",
              "      <td>1</td>\n",
              "      <td>0</td>\n",
              "      <td>0</td>\n",
              "      <td>0</td>\n",
              "      <td>0</td>\n",
              "      <td>0</td>\n",
              "      <td>0</td>\n",
              "      <td>0</td>\n",
              "      <td>0</td>\n",
              "      <td>0</td>\n",
              "      <td>0</td>\n",
              "      <td>0</td>\n",
              "      <td>0</td>\n",
              "      <td>0</td>\n",
              "      <td>0</td>\n",
              "      <td>0</td>\n",
              "      <td>0</td>\n",
              "      <td>0</td>\n",
              "      <td>0</td>\n",
              "      <td>0</td>\n",
              "      <td>0</td>\n",
              "      <td>0</td>\n",
              "      <td>0</td>\n",
              "      <td>0</td>\n",
              "      <td>0</td>\n",
              "      <td>0</td>\n",
              "      <td>0</td>\n",
              "      <td>0</td>\n",
              "      <td>0</td>\n",
              "      <td>0</td>\n",
              "      <td>Fungal infection</td>\n",
              "    </tr>\n",
              "    <tr>\n",
              "      <th>3</th>\n",
              "      <td>1</td>\n",
              "      <td>1</td>\n",
              "      <td>0</td>\n",
              "      <td>0</td>\n",
              "      <td>0</td>\n",
              "      <td>0</td>\n",
              "      <td>0</td>\n",
              "      <td>0</td>\n",
              "      <td>0</td>\n",
              "      <td>0</td>\n",
              "      <td>0</td>\n",
              "      <td>0</td>\n",
              "      <td>0</td>\n",
              "      <td>0</td>\n",
              "      <td>0</td>\n",
              "      <td>0</td>\n",
              "      <td>0</td>\n",
              "      <td>0</td>\n",
              "      <td>0</td>\n",
              "      <td>0</td>\n",
              "      <td>0</td>\n",
              "      <td>0</td>\n",
              "      <td>0</td>\n",
              "      <td>0</td>\n",
              "      <td>0</td>\n",
              "      <td>0</td>\n",
              "      <td>0</td>\n",
              "      <td>0</td>\n",
              "      <td>0</td>\n",
              "      <td>0</td>\n",
              "      <td>0</td>\n",
              "      <td>0</td>\n",
              "      <td>0</td>\n",
              "      <td>0</td>\n",
              "      <td>0</td>\n",
              "      <td>0</td>\n",
              "      <td>0</td>\n",
              "      <td>0</td>\n",
              "      <td>0</td>\n",
              "      <td>0</td>\n",
              "      <td>...</td>\n",
              "      <td>0</td>\n",
              "      <td>0</td>\n",
              "      <td>0</td>\n",
              "      <td>0</td>\n",
              "      <td>0</td>\n",
              "      <td>0</td>\n",
              "      <td>0</td>\n",
              "      <td>0</td>\n",
              "      <td>0</td>\n",
              "      <td>1</td>\n",
              "      <td>0</td>\n",
              "      <td>0</td>\n",
              "      <td>0</td>\n",
              "      <td>0</td>\n",
              "      <td>0</td>\n",
              "      <td>0</td>\n",
              "      <td>0</td>\n",
              "      <td>0</td>\n",
              "      <td>0</td>\n",
              "      <td>0</td>\n",
              "      <td>0</td>\n",
              "      <td>0</td>\n",
              "      <td>0</td>\n",
              "      <td>0</td>\n",
              "      <td>0</td>\n",
              "      <td>0</td>\n",
              "      <td>0</td>\n",
              "      <td>0</td>\n",
              "      <td>0</td>\n",
              "      <td>0</td>\n",
              "      <td>0</td>\n",
              "      <td>0</td>\n",
              "      <td>0</td>\n",
              "      <td>0</td>\n",
              "      <td>0</td>\n",
              "      <td>0</td>\n",
              "      <td>0</td>\n",
              "      <td>0</td>\n",
              "      <td>0</td>\n",
              "      <td>Fungal infection</td>\n",
              "    </tr>\n",
              "  </tbody>\n",
              "</table>\n",
              "<p>4 rows × 133 columns</p>\n",
              "</div>"
            ],
            "text/plain": [
              "   itching  skin_rash  ...  yellow_crust_ooze         prognosis\n",
              "0        1          1  ...                  0  Fungal infection\n",
              "1        0          1  ...                  0  Fungal infection\n",
              "2        1          0  ...                  0  Fungal infection\n",
              "3        1          1  ...                  0  Fungal infection\n",
              "\n",
              "[4 rows x 133 columns]"
            ]
          },
          "execution_count": 8,
          "metadata": {},
          "output_type": "execute_result"
        }
      ],
      "source": [
        "traindf.head(4)"
      ]
    },
    {
      "cell_type": "code",
      "execution_count": null,
      "metadata": {
        "id": "EFgBEuap3X0M"
      },
      "outputs": [],
      "source": [
        "X_train= traindf.drop('prognosis', axis=1)\n",
        "X_test= testdf.drop('prognosis', axis=1)\n",
        "\n",
        "y_train= np.array(traindf['prognosis'])\n",
        "y_test= np.array(testdf['prognosis'])\n",
        "\n",
        "y_train_enc= pd.get_dummies(y_train)\n",
        "y_test_enc= pd.get_dummies(y_test)"
      ]
    },
    {
      "cell_type": "code",
      "execution_count": null,
      "metadata": {
        "id": "iTNI0caK4ypO"
      },
      "outputs": [],
      "source": [
        "import keras\n",
        "from keras.layers import Dense\n",
        "from keras.models import Sequential\n",
        "from keras.callbacks import EarlyStopping"
      ]
    },
    {
      "cell_type": "code",
      "execution_count": null,
      "metadata": {
        "id": "8H3ylgSW47yX"
      },
      "outputs": [],
      "source": [
        "model= Sequential()\n",
        "model.add(Dense(64, activation='relu', input_shape= (X_train.shape[1], )))\n",
        "model.add(Dense(32, activation='relu'))\n",
        "model.add(Dense(16, activation='relu'))\n",
        "model.add(Dense(y_train_enc.shape[1], activation='softmax'))"
      ]
    },
    {
      "cell_type": "code",
      "execution_count": null,
      "metadata": {
        "id": "W91WgYBk4_Zd"
      },
      "outputs": [],
      "source": [
        "model.compile('adam', loss='categorical_crossentropy', metrics=['accuracy'])"
      ]
    },
    {
      "cell_type": "code",
      "execution_count": null,
      "metadata": {
        "colab": {
          "base_uri": "https://localhost:8080/"
        },
        "id": "db0bXJmN5CSr",
        "outputId": "af01ebc9-70d8-4ee9-9cd6-cabc54b4c4cf"
      },
      "outputs": [
        {
          "name": "stdout",
          "output_type": "stream",
          "text": [
            "Epoch 1/30\n",
            "29/29 [==============================] - 1s 14ms/step - loss: 3.5877 - accuracy: 0.0839 - val_loss: 3.3965 - val_accuracy: 0.1220\n",
            "Epoch 2/30\n",
            "29/29 [==============================] - 0s 4ms/step - loss: 3.1709 - accuracy: 0.1684 - val_loss: 2.7524 - val_accuracy: 0.2439\n",
            "Epoch 3/30\n",
            "29/29 [==============================] - 0s 4ms/step - loss: 2.4104 - accuracy: 0.3630 - val_loss: 1.8196 - val_accuracy: 0.6341\n",
            "Epoch 4/30\n",
            "29/29 [==============================] - 0s 3ms/step - loss: 1.4733 - accuracy: 0.7445 - val_loss: 0.8737 - val_accuracy: 0.9268\n",
            "Epoch 5/30\n",
            "29/29 [==============================] - 0s 3ms/step - loss: 0.6717 - accuracy: 0.9451 - val_loss: 0.2951 - val_accuracy: 1.0000\n",
            "Epoch 6/30\n",
            "29/29 [==============================] - 0s 3ms/step - loss: 0.2456 - accuracy: 0.9962 - val_loss: 0.0882 - val_accuracy: 1.0000\n",
            "Epoch 7/30\n",
            "29/29 [==============================] - 0s 3ms/step - loss: 0.0972 - accuracy: 0.9983 - val_loss: 0.0336 - val_accuracy: 1.0000\n"
          ]
        },
        {
          "data": {
            "text/plain": [
              "<keras.callbacks.History at 0x7f6188877d90>"
            ]
          },
          "execution_count": 19,
          "metadata": {},
          "output_type": "execute_result"
        }
      ],
      "source": [
        "early_stopping_monitor= EarlyStopping(patience=2, monitor='val_accuracy')\n",
        "model.fit(X_train, y_train_enc, batch_size=120, epochs=30, validation_split=0.3, callbacks=[early_stopping_monitor])"
      ]
    },
    {
      "cell_type": "code",
      "execution_count": null,
      "metadata": {
        "colab": {
          "base_uri": "https://localhost:8080/"
        },
        "id": "n-WajMqX5FcB",
        "outputId": "e827d1f4-a2bd-49d4-a8bc-7ed494dc1e9b"
      },
      "outputs": [
        {
          "name": "stdout",
          "output_type": "stream",
          "text": [
            "INFO:tensorflow:Assets written to: /content/drive/MyDrive/PDHealthCareProject/models/symp_model/assets\n"
          ]
        }
      ],
      "source": [
        "model.save(\"/content/drive/MyDrive/PDHealthCareProject/models/symp_model\")"
      ]
    },
    {
      "cell_type": "code",
      "execution_count": null,
      "metadata": {
        "id": "GS_7fHJr2Xo1"
      },
      "outputs": [],
      "source": [
        "newmodel= keras.models.load_model('/content/drive/MyDrive/PDHealthCareProject/models/symp_model')"
      ]
    },
    {
      "cell_type": "code",
      "execution_count": null,
      "metadata": {
        "colab": {
          "base_uri": "https://localhost:8080/"
        },
        "id": "uWPn2xZb5iTj",
        "outputId": "ce28535d-9fc0-423b-bb92-3fa744cac9fa"
      },
      "outputs": [
        {
          "name": "stdout",
          "output_type": "stream",
          "text": [
            "5/5 [==============================] - 0s 3ms/step - loss: 0.0884 - accuracy: 1.0000\n"
          ]
        },
        {
          "data": {
            "text/plain": [
              "[0.08844007551670074, 1.0]"
            ]
          },
          "execution_count": 23,
          "metadata": {},
          "output_type": "execute_result"
        }
      ],
      "source": [
        "newmodel.evaluate(X_test, y_test_enc, batch_size=1, steps=5)"
      ]
    },
    {
      "cell_type": "code",
      "execution_count": null,
      "metadata": {
        "colab": {
          "base_uri": "https://localhost:8080/"
        },
        "id": "9EDasYnF4mty",
        "outputId": "0aa1b271-a7cb-492d-8b27-18e50c5c75c7"
      },
      "outputs": [
        {
          "data": {
            "text/plain": [
              "23"
            ]
          },
          "execution_count": 10,
          "metadata": {},
          "output_type": "execute_result"
        }
      ],
      "source": [
        "tt=np.array([np.array(X_test.iloc[10])])\n",
        "prediction= newmodel.predict(tt)\n",
        "prediction\n",
        "[0.01,0.002,0.0002.........,0.98, 0.002211]\n",
        "np.argmax(prediction)\n",
        "np.max(prediction)=0.98"
      ]
    },
    {
      "cell_type": "code",
      "execution_count": null,
      "metadata": {
        "colab": {
          "base_uri": "https://localhost:8080/",
          "height": 35
        },
        "id": "H-j1sCijD7kg",
        "outputId": "9eaf393b-0b6e-464a-fcd7-de0c76c9f2ed"
      },
      "outputs": [
        {
          "data": {
            "application/vnd.google.colaboratory.intrinsic+json": {
              "type": "string"
            },
            "text/plain": [
              "'Hypertension '"
            ]
          },
          "execution_count": 11,
          "metadata": {},
          "output_type": "execute_result"
        }
      ],
      "source": [
        "y_test[10]\n"
      ]
    },
    {
      "cell_type": "code",
      "execution_count": null,
      "metadata": {
        "id": "m7dtSmGu6Ab7"
      },
      "outputs": [],
      "source": [
        "tt=np.array([np.array(X_test.iloc[1])])"
      ]
    },
    {
      "cell_type": "code",
      "execution_count": null,
      "metadata": {
        "colab": {
          "base_uri": "https://localhost:8080/"
        },
        "id": "mVt_9EHq6xoE",
        "outputId": "7e104613-b547-4046-904e-7caac62876b3"
      },
      "outputs": [
        {
          "data": {
            "text/plain": [
              "array([[1.2044761e-05, 2.1229046e-04, 3.2888108e-03, 4.6434520e-06,\n",
              "        9.3667173e-01, 2.5658747e-03, 8.3133700e-06, 1.3876325e-02,\n",
              "        1.5021021e-08, 1.7934674e-06, 2.0431491e-04, 3.6874881e-06,\n",
              "        1.8528933e-04, 9.3297539e-03, 7.4738828e-03, 2.2864813e-02,\n",
              "        2.0042676e-04, 6.8729250e-06, 9.6032332e-04, 1.4377433e-08,\n",
              "        5.4579873e-06, 4.4849338e-09, 2.6353058e-08, 9.1407448e-05,\n",
              "        1.3232374e-06, 2.1990413e-06, 1.2469775e-06, 5.3303893e-06,\n",
              "        1.6959339e-05, 7.3923620e-05, 1.4830061e-04, 6.7079609e-06,\n",
              "        5.4662228e-06, 1.5552616e-03, 1.8469973e-04, 1.8897381e-07,\n",
              "        1.1267082e-06, 2.9052952e-05, 5.8598779e-08, 1.0037238e-08,\n",
              "        3.9460772e-08]], dtype=float32)"
            ]
          },
          "execution_count": 40,
          "metadata": {},
          "output_type": "execute_result"
        }
      ],
      "source": [
        "prediction"
      ]
    },
    {
      "cell_type": "code",
      "execution_count": null,
      "metadata": {
        "colab": {
          "base_uri": "https://localhost:8080/"
        },
        "id": "Kn0mLyXl6ym9",
        "outputId": "450b7673-a72d-4686-997d-f9feeadde1f7"
      },
      "outputs": [
        {
          "data": {
            "text/plain": [
              "4"
            ]
          },
          "execution_count": 41,
          "metadata": {},
          "output_type": "execute_result"
        }
      ],
      "source": [
        "np.argmax(prediction)"
      ]
    },
    {
      "cell_type": "code",
      "execution_count": null,
      "metadata": {
        "colab": {
          "base_uri": "https://localhost:8080/"
        },
        "id": "PrYlkM6f636O",
        "outputId": "0952ea95-01fd-4f34-d49d-2640372adbdd"
      },
      "outputs": [
        {
          "data": {
            "text/plain": [
              "(vertigo) Paroymsal  Positional Vertigo    0\n",
              "AIDS                                       0\n",
              "Acne                                       0\n",
              "Alcoholic hepatitis                        0\n",
              "Allergy                                    0\n",
              "Arthritis                                  0\n",
              "Bronchial Asthma                           0\n",
              "Cervical spondylosis                       0\n",
              "Chicken pox                                0\n",
              "Chronic cholestasis                        0\n",
              "Common Cold                                0\n",
              "Dengue                                     0\n",
              "Diabetes                                   0\n",
              "Dimorphic hemmorhoids(piles)               0\n",
              "Drug Reaction                              0\n",
              "Fungal infection                           0\n",
              "GERD                                       0\n",
              "Gastroenteritis                            0\n",
              "Heart attack                               0\n",
              "Hepatitis B                                0\n",
              "Hepatitis C                                0\n",
              "Hepatitis D                                0\n",
              "Hepatitis E                                0\n",
              "Hypertension                               1\n",
              "Hyperthyroidism                            0\n",
              "Hypoglycemia                               0\n",
              "Hypothyroidism                             0\n",
              "Impetigo                                   0\n",
              "Jaundice                                   0\n",
              "Malaria                                    0\n",
              "Migraine                                   0\n",
              "Osteoarthristis                            0\n",
              "Paralysis (brain hemorrhage)               0\n",
              "Peptic ulcer diseae                        0\n",
              "Pneumonia                                  0\n",
              "Psoriasis                                  0\n",
              "Tuberculosis                               0\n",
              "Typhoid                                    0\n",
              "Urinary tract infection                    0\n",
              "Varicose veins                             0\n",
              "hepatitis A                                0\n",
              "Name: 10, dtype: uint8"
            ]
          },
          "execution_count": 13,
          "metadata": {},
          "output_type": "execute_result"
        }
      ],
      "source": [
        "y_test_enc.iloc[10]"
      ]
    },
    {
      "cell_type": "code",
      "execution_count": null,
      "metadata": {
        "colab": {
          "base_uri": "https://localhost:8080/",
          "height": 182
        },
        "id": "doPhNxE56n2L",
        "outputId": "38ef4d4c-a27a-49e0-c703-74d27319abea"
      },
      "outputs": [
        {
          "data": {
            "text/html": [
              "<div>\n",
              "<style scoped>\n",
              "    .dataframe tbody tr th:only-of-type {\n",
              "        vertical-align: middle;\n",
              "    }\n",
              "\n",
              "    .dataframe tbody tr th {\n",
              "        vertical-align: top;\n",
              "    }\n",
              "\n",
              "    .dataframe thead th {\n",
              "        text-align: right;\n",
              "    }\n",
              "</style>\n",
              "<table border=\"1\" class=\"dataframe\">\n",
              "  <thead>\n",
              "    <tr style=\"text-align: right;\">\n",
              "      <th></th>\n",
              "      <th>(vertigo) Paroymsal  Positional Vertigo</th>\n",
              "      <th>AIDS</th>\n",
              "      <th>Acne</th>\n",
              "      <th>Alcoholic hepatitis</th>\n",
              "      <th>Allergy</th>\n",
              "      <th>Arthritis</th>\n",
              "      <th>Bronchial Asthma</th>\n",
              "      <th>Cervical spondylosis</th>\n",
              "      <th>Chicken pox</th>\n",
              "      <th>Chronic cholestasis</th>\n",
              "      <th>Common Cold</th>\n",
              "      <th>Dengue</th>\n",
              "      <th>Diabetes</th>\n",
              "      <th>Dimorphic hemmorhoids(piles)</th>\n",
              "      <th>Drug Reaction</th>\n",
              "      <th>Fungal infection</th>\n",
              "      <th>GERD</th>\n",
              "      <th>Gastroenteritis</th>\n",
              "      <th>Heart attack</th>\n",
              "      <th>Hepatitis B</th>\n",
              "      <th>Hepatitis C</th>\n",
              "      <th>Hepatitis D</th>\n",
              "      <th>Hepatitis E</th>\n",
              "      <th>Hypertension</th>\n",
              "      <th>Hyperthyroidism</th>\n",
              "      <th>Hypoglycemia</th>\n",
              "      <th>Hypothyroidism</th>\n",
              "      <th>Impetigo</th>\n",
              "      <th>Jaundice</th>\n",
              "      <th>Malaria</th>\n",
              "      <th>Migraine</th>\n",
              "      <th>Osteoarthristis</th>\n",
              "      <th>Paralysis (brain hemorrhage)</th>\n",
              "      <th>Peptic ulcer diseae</th>\n",
              "      <th>Pneumonia</th>\n",
              "      <th>Psoriasis</th>\n",
              "      <th>Tuberculosis</th>\n",
              "      <th>Typhoid</th>\n",
              "      <th>Urinary tract infection</th>\n",
              "      <th>Varicose veins</th>\n",
              "      <th>hepatitis A</th>\n",
              "    </tr>\n",
              "  </thead>\n",
              "  <tbody>\n",
              "    <tr>\n",
              "      <th>0</th>\n",
              "      <td>0</td>\n",
              "      <td>0</td>\n",
              "      <td>0</td>\n",
              "      <td>0</td>\n",
              "      <td>0</td>\n",
              "      <td>0</td>\n",
              "      <td>0</td>\n",
              "      <td>0</td>\n",
              "      <td>0</td>\n",
              "      <td>0</td>\n",
              "      <td>0</td>\n",
              "      <td>0</td>\n",
              "      <td>0</td>\n",
              "      <td>0</td>\n",
              "      <td>0</td>\n",
              "      <td>1</td>\n",
              "      <td>0</td>\n",
              "      <td>0</td>\n",
              "      <td>0</td>\n",
              "      <td>0</td>\n",
              "      <td>0</td>\n",
              "      <td>0</td>\n",
              "      <td>0</td>\n",
              "      <td>0</td>\n",
              "      <td>0</td>\n",
              "      <td>0</td>\n",
              "      <td>0</td>\n",
              "      <td>0</td>\n",
              "      <td>0</td>\n",
              "      <td>0</td>\n",
              "      <td>0</td>\n",
              "      <td>0</td>\n",
              "      <td>0</td>\n",
              "      <td>0</td>\n",
              "      <td>0</td>\n",
              "      <td>0</td>\n",
              "      <td>0</td>\n",
              "      <td>0</td>\n",
              "      <td>0</td>\n",
              "      <td>0</td>\n",
              "      <td>0</td>\n",
              "    </tr>\n",
              "    <tr>\n",
              "      <th>1</th>\n",
              "      <td>0</td>\n",
              "      <td>0</td>\n",
              "      <td>0</td>\n",
              "      <td>0</td>\n",
              "      <td>1</td>\n",
              "      <td>0</td>\n",
              "      <td>0</td>\n",
              "      <td>0</td>\n",
              "      <td>0</td>\n",
              "      <td>0</td>\n",
              "      <td>0</td>\n",
              "      <td>0</td>\n",
              "      <td>0</td>\n",
              "      <td>0</td>\n",
              "      <td>0</td>\n",
              "      <td>0</td>\n",
              "      <td>0</td>\n",
              "      <td>0</td>\n",
              "      <td>0</td>\n",
              "      <td>0</td>\n",
              "      <td>0</td>\n",
              "      <td>0</td>\n",
              "      <td>0</td>\n",
              "      <td>0</td>\n",
              "      <td>0</td>\n",
              "      <td>0</td>\n",
              "      <td>0</td>\n",
              "      <td>0</td>\n",
              "      <td>0</td>\n",
              "      <td>0</td>\n",
              "      <td>0</td>\n",
              "      <td>0</td>\n",
              "      <td>0</td>\n",
              "      <td>0</td>\n",
              "      <td>0</td>\n",
              "      <td>0</td>\n",
              "      <td>0</td>\n",
              "      <td>0</td>\n",
              "      <td>0</td>\n",
              "      <td>0</td>\n",
              "      <td>0</td>\n",
              "    </tr>\n",
              "  </tbody>\n",
              "</table>\n",
              "</div>"
            ],
            "text/plain": [
              "   (vertigo) Paroymsal  Positional Vertigo  AIDS  ...  Varicose veins  hepatitis A\n",
              "0                                        0     0  ...               0            0\n",
              "1                                        0     0  ...               0            0\n",
              "\n",
              "[2 rows x 41 columns]"
            ]
          },
          "execution_count": 15,
          "metadata": {},
          "output_type": "execute_result"
        }
      ],
      "source": [
        "y_test_enc.head(2)"
      ]
    },
    {
      "cell_type": "code",
      "execution_count": null,
      "metadata": {
        "colab": {
          "base_uri": "https://localhost:8080/"
        },
        "id": "QHJOPTVV6p9w",
        "outputId": "250ed69c-56aa-4d20-bf79-bb56d086ccf2"
      },
      "outputs": [
        {
          "data": {
            "text/plain": [
              "Index(['itching', 'skin_rash', 'nodal_skin_eruptions', 'continuous_sneezing',\n",
              "       'shivering', 'chills', 'joint_pain', 'stomach_pain', 'acidity',\n",
              "       'ulcers_on_tongue',\n",
              "       ...\n",
              "       'pus_filled_pimples', 'blackheads', 'scurring', 'skin_peeling',\n",
              "       'silver_like_dusting', 'small_dents_in_nails', 'inflammatory_nails',\n",
              "       'blister', 'red_sore_around_nose', 'yellow_crust_ooze'],\n",
              "      dtype='object', length=132)"
            ]
          },
          "execution_count": 20,
          "metadata": {},
          "output_type": "execute_result"
        }
      ],
      "source": [
        "X_train.columns"
      ]
    },
    {
      "cell_type": "markdown",
      "metadata": {
        "id": "PzZer09cFH4m"
      },
      "source": [
        "## Disease NER using bioBERT"
      ]
    },
    {
      "cell_type": "code",
      "execution_count": null,
      "metadata": {
        "id": "Dz_Gj8hjFfpx"
      },
      "outputs": [],
      "source": [
        "!pip install transformers\n",
        "\n",
        "text1=\"India is my country. I live in mumbai\"\n",
        "text2= \"USA is my country.\"\n",
        "contries=[\"india\",'USA','germany']\n",
        "text=\" Sri lanka is my country\"\n",
        "\n",
        "\n",
        "\n",
        "named entity- India, Mumbai\n",
        "\n",
        "pred=['fever','cold',HIv]\n",
        "\n",
        "text=\"Patient is having high fever. He is feeling cold. His temperature is 104. He has hhh\"\n",
        "text=\"Boy does have fever\"\n",
        "\n",
        "\n",
        "\n",
        "\n",
        "\n",
        "1. next word/masked word prediction\n",
        "2. next sentence class prediction\n",
        "\n",
        "i am -- .I live in india. yes/no\n",
        "i am boy. Horse is fast. \n",
        "\n",
        "5-6 months\n",
        "\n",
        "input\n",
        "i am boy i live in  ---   india output\n",
        "\n",
        "\n",
        "\n",
        "trained model\n",
        "\n",
        "bert\n",
        "embd=bert(text) 10 words -- 10 x 10\n",
        "emmd[][[10x10], [10x10]]--nuural net --- class(0-non -diseas, 1- diseas)\n",
        "\n",
        "\n",
        "word-matrix---word embedding\n",
        "[n x m]\n",
        "\n",
        "nerModel\n",
        "pred=nerMode(text)\n",
        "text.search('HIV')\n",
        "pnuemonia\n",
        "140k\n",
        "140k*n*m=\n",
        "pred=['fever','cold',AIDS]"
      ]
    },
    {
      "cell_type": "code",
      "execution_count": null,
      "metadata": {
        "id": "sfIjgqvhO3_U"
      },
      "outputs": [],
      "source": [
        "#for dataset loading\n",
        "%%bash\n",
        "DATADIR=\"NCBI_disease\"\n",
        "if test ! -d \"$DATADIR\";then\n",
        "    echo \"Creating $DATADIR dir\"\n",
        "    mkdir \"$DATADIR\"\n",
        "    cd \"$DATADIR\"\n",
        "    wget https://raw.githubusercontent.com/allenai/scibert/master/data/ner/NCBI-disease/dev.txt\n",
        "    wget https://raw.githubusercontent.com/allenai/scibert/master/data/ner/NCBI-disease/test.txt\n",
        "    wget https://raw.githubusercontent.com/allenai/scibert/master/data/ner/NCBI-disease/train.txt\n",
        "fi\n"
      ]
    },
    {
      "cell_type": "code",
      "execution_count": null,
      "metadata": {
        "id": "0a9JiUjLPHUK"
      },
      "outputs": [],
      "source": [
        "import os\n",
        "import math\n",
        "import random\n",
        "import csv\n",
        "import sys\n",
        "\n",
        "import numpy as np\n",
        "import pandas as pd\n",
        "from sklearn import metrics\n",
        "from sklearn.metrics import f1_score, precision_score, recall_score\n",
        "from sklearn.metrics import classification_report\n",
        "import statistics as stats\n",
        "\n",
        "sys.path.append(\"../\") \n",
        "\n",
        "def read_tsv(filename, quotechar=None):\n",
        "    with open(filename, \"r\", encoding='utf-8') as f:\n",
        "        return list(csv.reader(f, delimiter=\"\\t\", quotechar=quotechar))   \n",
        "\n",
        "def flatten(l):\n",
        "    return [item for sublist in l for item in sublist]\n",
        "\n",
        "def read_CoNLL2003_format(filename, idx=3):\n",
        "    \"\"\"Read file in CoNLL-2003 shared task format\"\"\"\n",
        "    \n",
        "    lines =  open(filename).read().strip()   \n",
        "    \n",
        "    lines = lines.split(\"\\n\\n\")  \n",
        "    \n",
        "    lines = [line.split(\"\\n\") for line in lines]\n",
        "    \n",
        "    tokens = [[l.split()[0] for l in line] for line in lines]\n",
        "    \n",
        "    labels = [[l.split()[idx] for l in line] for line in lines]\n",
        "    \n",
        "    data= {'tokens': tokens, 'labels': labels}\n",
        "    df=pd.DataFrame(data=data)\n",
        "    return df\n",
        "\n",
        "DATADIR = \"NCBI_disease/\"\n",
        "\n",
        "def get_data(trainfile=DATADIR + \"train.txt\",\n",
        "             devfile=DATADIR + \"dev.txt\",\n",
        "             testfile=DATADIR + \"test.txt\"):\n",
        "\n",
        "    train = read_CoNLL2003_format(trainfile, idx=3)    \n",
        "    dev = read_CoNLL2003_format(devfile, idx=3)\n",
        "    \n",
        "    # combine train and dev\n",
        "    train = pd.concat([train, dev])\n",
        "    print(\"Train and dev data: %d sentences, %d tokens\"%(len(train),len(flatten(train.tokens))))\n",
        "\n",
        "    test = read_CoNLL2003_format(testfile, idx=3)\n",
        "    print(\"Test data: %d sentences, %d tokens\"%(len(test),len(flatten(test.tokens))))\n",
        "    \n",
        "    return train, test\n",
        "\n",
        "train, test = get_data()\n",
        "\n",
        "X_train, y_train = train.tokens, train.labels\n",
        "X_test, y_test = test.tokens, test.labels\n",
        "\n",
        "print(len(train))\n",
        "\n",
        "label_list = np.unique(flatten(y_train))\n",
        "label_list = list(label_list)\n",
        "print(\"\\nNER tags:\",label_list)"
      ]
    },
    {
      "cell_type": "code",
      "execution_count": null,
      "metadata": {
        "colab": {
          "base_uri": "https://localhost:8080/"
        },
        "id": "K6Z2h9Sh6oqb",
        "outputId": "9842cdd8-c1c4-4e19-f62e-6049c065d7ea"
      },
      "outputs": [
        {
          "name": "stderr",
          "output_type": "stream",
          "text": [
            "Asking to truncate to max_length but no maximum length is provided and the model has no predefined maximum length. Default to no truncation.\n"
          ]
        },
        {
          "name": "stdout",
          "output_type": "stream",
          "text": [
            "Identification of APC2 , a homologue of the adenomatous polyposis coli tumour suppressor\n"
          ]
        },
        {
          "data": {
            "text/plain": [
              "['adenomatous polyposis coli tumour']"
            ]
          },
          "execution_count": 60,
          "metadata": {},
          "output_type": "execute_result"
        }
      ],
      "source": [
        "from transformers import AutoTokenizer, AutoModelForTokenClassification\n",
        "from transformers import pipeline\n",
        "import torch\n",
        "tokenizer = AutoTokenizer.from_pretrained(\"/content/drive/MyDrive/PDHealthCareProject/DiseaseNER/ner_tokenizer\")\n",
        "model=torch.load(\"/content/drive/MyDrive/PDHealthCareProject/DiseaseNER/new_model.pth\")\n",
        "\n",
        "def tokens_to_string(ner_results):\n",
        "    strings=[]\n",
        "    string=[]\n",
        "    for entry in ner_results:\n",
        "        if entry['entity']=='B-bio':\n",
        "            strings.append(tokenizer.convert_tokens_to_string(string))\n",
        "            string=[entry['word']]\n",
        "        else:\n",
        "            string.append(entry['word'])\n",
        "    strings.append(tokenizer.convert_tokens_to_string(string))\n",
        "    return strings[1:]\n",
        "\n",
        "\n",
        "nlp = pipeline(\"ner\", model=model, tokenizer=tokenizer)\n",
        "# example = \"My name is Wolfgang and I live in Berlin.I have viral fever.I tested covid-19 positive.\"\n",
        "example=\"Identification of APC2 , a homologue of the adenomatous polyposis coli tumour suppressor\"\n",
        "print(example)\n",
        "ner_results = nlp(example)\n",
        "tokens_to_string(ner_results)\n"
      ]
    },
    {
      "cell_type": "code",
      "execution_count": null,
      "metadata": {
        "id": "wUEgVU2FHDAo"
      },
      "outputs": [],
      "source": []
    },
    {
      "cell_type": "markdown",
      "metadata": {
        "id": "6g_IGYnSmk9h"
      },
      "source": [
        "## BioMedical document classification using bioBERT"
      ]
    },
    {
      "cell_type": "code",
      "execution_count": null,
      "metadata": {
        "id": "mcFJ16w8mkWj"
      },
      "outputs": [],
      "source": []
    },
    {
      "cell_type": "code",
      "execution_count": null,
      "metadata": {
        "id": "Hhgs54VTmkZd"
      },
      "outputs": [],
      "source": []
    },
    {
      "cell_type": "code",
      "execution_count": null,
      "metadata": {
        "id": "3KrlAstomkcU"
      },
      "outputs": [],
      "source": []
    }
  ],
  "metadata": {
    "colab": {
      "collapsed_sections": [],
      "name": "PDProject.ipynb",
      "provenance": []
    },
    "kernelspec": {
      "display_name": "Python 3",
      "name": "python3"
    },
    "language_info": {
      "name": "python"
    }
  },
  "nbformat": 4,
  "nbformat_minor": 0
}
